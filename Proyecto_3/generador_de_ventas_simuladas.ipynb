{
 "cells": [
  {
   "cell_type": "code",
   "execution_count": 2,
   "metadata": {},
   "outputs": [],
   "source": [
    "#Generar Dataset Simulado de ventas\n",
    "import pandas as pd\n",
    "import numpy as np\n",
    "\n",
    "#Generar fechas diarias para 100 dias\n",
    "fechas = pd.date_range(start='2023-01-01', periods=100)\n",
    "\n",
    "#Simular ventas con una tendencia creciente y algo de ruido aleatorio\n",
    "np.random.seed(42)\n",
    "ventas = np.random.randint(50, 200, size=100) + np.linspace(10, 100, 100)\n",
    "\n",
    "#Dataframe con las ventas\n",
    "df_ventas = pd.DataFrame({'Date':fechas, 'Sales':ventas})\n",
    "\n",
    "#Guardar el data set en un archivo CSV\n",
    "df_ventas.to_csv('ventas.csv', index=False)\n"
   ]
  }
 ],
 "metadata": {
  "kernelspec": {
   "display_name": "Python 3",
   "language": "python",
   "name": "python3"
  },
  "language_info": {
   "codemirror_mode": {
    "name": "ipython",
    "version": 3
   },
   "file_extension": ".py",
   "mimetype": "text/x-python",
   "name": "python",
   "nbconvert_exporter": "python",
   "pygments_lexer": "ipython3",
   "version": "3.12.7"
  }
 },
 "nbformat": 4,
 "nbformat_minor": 2
}
